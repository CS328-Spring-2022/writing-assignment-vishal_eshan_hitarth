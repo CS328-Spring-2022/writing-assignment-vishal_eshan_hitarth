{
 "cells": [
  {
   "cell_type": "markdown",
   "metadata": {},
   "source": [
    "<h1><center>Topic Name</center></h1>\n",
    "<h4><center>\n",
    "<a style=\"text-decoration:none\" href=\"https://author1.github.io/\">Author 1</a>, IIT Gandhinagar, <a style=\"text-decoration:none\" href=\"mailto:<author1>@iitgn.ac.in\">author1@iitgn.ac.in</a>\n",
    "<br><br>\n",
    "<a style=\"text-decoration:none\" href=\"https://author2.github.io/\">Author 2</a>, IIT Gandhinagar, <a style=\"text-decoration:none\" href=\"mailto:<author2>@iitgn.ac.in\">author2@iitgn.ac.in</a>\n",
    "<br><br>\n",
    "<a style=\"text-decoration:none\" href=\"https://author3.github.io/\">Author 3</a>, IIT Gandhinagar, <a style=\"text-decoration:none\" href=\"mailto:<author3>@iitgn.ac.in\">author3@iitgn.ac.in</a>\n",
    "</center></h4>"
   ]
  },
  {
   "cell_type": "markdown",
   "metadata": {},
   "source": [
    "[![Repo](https://img.shields.io/badge/GitHub-<repo_name>-brightgreen)](https://github.com/<repo_user>/<repo_name>)"
   ]
  }
 ],
 "metadata": {
  "language_info": {
   "name": "python"
  },
  "orig_nbformat": 4
 },
 "nbformat": 4,
 "nbformat_minor": 2
}
